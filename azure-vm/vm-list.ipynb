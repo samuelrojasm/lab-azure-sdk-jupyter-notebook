{
 "cells": [
  {
   "cell_type": "code",
   "execution_count": 2,
   "id": "3bd767af-62c5-465e-a87f-e478cf7720ca",
   "metadata": {},
   "outputs": [],
   "source": [
    "from azure.identity import DefaultAzureCredential\n",
    "from azure.mgmt.compute import ComputeManagementClient"
   ]
  },
  {
   "cell_type": "code",
   "execution_count": 3,
   "id": "13be66cd-cd29-4767-9b9f-35a8296aac11",
   "metadata": {},
   "outputs": [],
   "source": [
    "# Autenticación\n",
    "credential = DefaultAzureCredential()"
   ]
  },
  {
   "cell_type": "code",
   "execution_count": 16,
   "id": "dfa32683-a604-4689-8bbf-d45e918e5afa",
   "metadata": {},
   "outputs": [],
   "source": [
    "# Reemplazar con ID de suscripción\n",
    "# subscription_id = 'TU_ID_DE_SUSCRIPCION'\n",
    "subscription_id = '68a07c9e-75af-41fa-a29d-afaf11ec9f55'\n",
    "\n",
    "# Cliente de gestión de máquinas virtuales\n",
    "compute_client = ComputeManagementClient(credential, subscription_id)"
   ]
  },
  {
   "cell_type": "code",
   "execution_count": 15,
   "id": "5a71edca-669b-4bcd-b917-5b1d33cbf7e0",
   "metadata": {},
   "outputs": [],
   "source": [
    "# Reemplazar con grupo de recursos\n",
    "#resource_group_name = 'mi-grupo-recursos'\n",
    "resource_group_name = ''\n",
    "\n",
    "# Listar VMs en el grupo de recursos\n",
    "vms = compute_client.virtual_machines.list(resource_group_name)"
   ]
  },
  {
   "cell_type": "code",
   "execution_count": null,
   "id": "49e31b69-49ab-4242-8eb3-dc78b55fc38a",
   "metadata": {},
   "outputs": [],
   "source": [
    "# Mostrar información de cada VM\n",
    "for vm in vms:\n",
    "    print(f\"Nombre: {vm.name}\")\n",
    "    print(f\"Ubicación: {vm.location}\")\n",
    "    print(f\"Tamaño: {vm.hardware_profile.vm_size}\")\n",
    "    print(f\"OS: {vm.storage_profile.os_disk.os_type}\")\n",
    "    print(f\"Nombre del disco OS: {vm.storage_profile.os_disk.name}\")\n",
    "    print(\"-\" * 30)"
   ]
  },
  {
   "cell_type": "code",
   "execution_count": null,
   "id": "eab1344b-d1cf-4c90-82cf-75ee619f89bc",
   "metadata": {},
   "outputs": [],
   "source": []
  }
 ],
 "metadata": {
  "kernelspec": {
   "display_name": "Python [conda env:azure-sdk]",
   "language": "python",
   "name": "conda-env-azure-sdk-py"
  },
  "language_info": {
   "codemirror_mode": {
    "name": "ipython",
    "version": 3
   },
   "file_extension": ".py",
   "mimetype": "text/x-python",
   "name": "python",
   "nbconvert_exporter": "python",
   "pygments_lexer": "ipython3",
   "version": "3.13.2"
  }
 },
 "nbformat": 4,
 "nbformat_minor": 5
}
